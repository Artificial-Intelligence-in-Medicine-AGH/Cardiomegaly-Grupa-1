{
 "cells": [
  {
   "cell_type": "markdown",
   "id": "84503be54990a40b",
   "metadata": {
    "id": "84503be54990a40b"
   },
   "source": [
    "# Obliczanie cech"
   ]
  },
  {
   "cell_type": "code",
   "execution_count": 17,
   "id": "ae5052908947aed8",
   "metadata": {
    "ExecuteTime": {
     "end_time": "2025-05-05T19:10:19.924052Z",
     "start_time": "2025-05-05T19:10:19.913671Z"
    },
    "colab": {
     "base_uri": "https://localhost:8080/",
     "height": 211
    },
    "executionInfo": {
     "elapsed": 115,
     "status": "error",
     "timestamp": 1746557526024,
     "user": {
      "displayName": "Kubarozruba",
      "userId": "14159684307941865599"
     },
     "user_tz": -120
    },
    "id": "ae5052908947aed8",
    "outputId": "89e935f2-5066-4f45-d856-29ef178173f2"
   },
   "outputs": [],
   "source": [
    "import os\n",
    "import csv\n",
    "\n",
    "folder_path = 'train'  # <- podaj swoją ścieżkę do folderu z plikami\n",
    "csv_file_path = 'cechy_wynik.csv'  # <- podaj ścieżkę do pliku CSV\n",
    "val_folder_path = 'val'\n",
    "val_csv_file_path = 'cechy_val.csv'\n",
    "\n",
    "file_names = [f.replace('.nii.gz', '') for f in os.listdir(folder_path) if f.endswith('.nii.gz')]\n",
    "val_file_names = [f.replace('.nii.gz', '') for f in os.listdir(val_folder_path) if f.endswith('.nii.gz')]\n",
    "\n",
    "with open(csv_file_path, mode='w', newline='') as csvfile:\n",
    "    writer = csv.writer(csvfile)\n",
    "    writer.writerow(['nazwa'])\n",
    "    for name in file_names:\n",
    "        writer.writerow([name])\n",
    "\n",
    "with open(val_csv_file_path, mode='w', newline='') as val_csv_file:\n",
    "    writer = csv.writer(val_csv_file)\n",
    "    writer.writerow(['nazwa'])\n",
    "    for name in val_file_names:\n",
    "        writer.writerow([name])\n"
   ]
  },
  {
   "cell_type": "markdown",
   "id": "40d9f6b18a0d307a",
   "metadata": {
    "id": "40d9f6b18a0d307a"
   },
   "source": [
    "### Pole serca"
   ]
  },
  {
   "cell_type": "code",
   "execution_count": null,
   "id": "79fe55500b0c17f2",
   "metadata": {
    "ExecuteTime": {
     "end_time": "2025-05-05T19:10:19.993415Z",
     "start_time": "2025-05-05T19:10:19.930323Z"
    },
    "id": "79fe55500b0c17f2",
    "outputId": "11178d5d-d79b-4a6d-d9db-df697fde9905"
   },
   "outputs": [
    {
     "name": "stdout",
     "output_type": "stream",
     "text": [
      "Zaktualizowano plik: cechy_wynik.csv\n",
      "Zaktualizowano plik: cechy_val.csv\n"
     ]
    }
   ],
   "source": [
    "import pandas as pd\n",
    "import nibabel as nib\n",
    "import numpy as np\n",
    "import os\n",
    "\n",
    "def heart_area(csv_path, nii_folder, new_column_name='Pole serca (px)'):\n",
    "    df = pd.read_csv(csv_path)\n",
    "    \n",
    "    heart_pixel_counts = {}\n",
    "\n",
    "    for filename in os.listdir(nii_folder):\n",
    "        if filename.endswith(\".nii.gz\"):\n",
    "            base_name = filename.replace(\".nii.gz\", \"\")\n",
    "            path = os.path.join(nii_folder, filename)\n",
    "\n",
    "            try:\n",
    "                nii_img = nib.load(path)\n",
    "                data = nii_img.get_fdata()\n",
    "\n",
    "                heart_value = np.max(data)\n",
    "                heart_pixels = int(np.sum(data == heart_value))\n",
    "\n",
    "                heart_pixel_counts[base_name] = heart_pixels\n",
    "            except Exception as e:\n",
    "                print(f\"Błąd w pliku {filename}: {e}\")\n",
    "\n",
    "    df[new_column_name] = df['nazwa'].map(heart_pixel_counts)\n",
    "\n",
    "    df.to_csv(csv_path, index=False)\n",
    "    print(f\"Zaktualizowano plik: {csv_path}\")\n",
    "\n",
    "heart_area(csv_file_path, folder_path)\n",
    "heart_area(val_csv_file_path, val_folder_path)"
   ]
  },
  {
   "cell_type": "markdown",
   "id": "9739df1c3ca92cf7",
   "metadata": {
    "id": "9739df1c3ca92cf7"
   },
   "source": [
    "### Obwód serca"
   ]
  },
  {
   "cell_type": "code",
   "execution_count": 19,
   "id": "22c40529aca1002a",
   "metadata": {
    "ExecuteTime": {
     "end_time": "2025-05-05T19:10:20.077678Z",
     "start_time": "2025-05-05T19:10:19.999893Z"
    },
    "id": "22c40529aca1002a",
    "outputId": "5f57e5b8-dedd-4a4f-98e8-995844eb367b"
   },
   "outputs": [
    {
     "name": "stdout",
     "output_type": "stream",
     "text": [
      "Zaktualizowano plik\n",
      "Zaktualizowano plik\n"
     ]
    }
   ],
   "source": [
    "import cv2\n",
    "\n",
    "def heart_parimeter(csv_path, nii_folder, column_name='Obwód serca (px)'):\n",
    "    df = pd.read_csv(csv_path)\n",
    "\n",
    "    perimeter_results = {}\n",
    "\n",
    "    for filename in os.listdir(nii_folder):\n",
    "        if filename.endswith(\".nii.gz\"):\n",
    "            base_name = filename.replace(\".nii.gz\", \"\")\n",
    "            filepath = os.path.join(nii_folder, filename)\n",
    "\n",
    "            try:\n",
    "                nii_img = nib.load(filepath)\n",
    "                data = nii_img.get_fdata()\n",
    "\n",
    "                total_perimeter = 0.0\n",
    "                heart_value = np.max(data)\n",
    "\n",
    "                for i in range(data.shape[2]):\n",
    "                    slice_2d = data[:, :, i]\n",
    "                    binary = np.uint8((slice_2d == heart_value) * 255)\n",
    "                    contours, _ = cv2.findContours(binary, cv2.RETR_EXTERNAL, cv2.CHAIN_APPROX_SIMPLE)\n",
    "                    for cnt in contours:\n",
    "                        total_perimeter += cv2.arcLength(cnt, True)\n",
    "\n",
    "                perimeter_results[base_name] = total_perimeter\n",
    "            except Exception as e:\n",
    "                print(f\"Błąd przy pliku {filename}: {e}\")\n",
    "\n",
    "    df[column_name] = df['nazwa'].map(perimeter_results)\n",
    "\n",
    "    df.to_csv(csv_path, index=False)\n",
    "    print(f\"Zaktualizowano plik\")\n",
    "\n",
    "heart_parimeter(csv_file_path, folder_path)\n",
    "heart_parimeter(val_csv_file_path,val_folder_path)\n"
   ]
  },
  {
   "cell_type": "markdown",
   "id": "24282c1150547dde",
   "metadata": {
    "id": "24282c1150547dde"
   },
   "source": [
    "### Pole płuc"
   ]
  },
  {
   "cell_type": "code",
   "execution_count": null,
   "id": "d665c730f8f13095",
   "metadata": {
    "ExecuteTime": {
     "end_time": "2025-05-05T19:10:20.128208Z",
     "start_time": "2025-05-05T19:10:20.091019Z"
    },
    "id": "d665c730f8f13095",
    "outputId": "2088c134-439f-4b26-8359-ff1078e16254"
   },
   "outputs": [
    {
     "name": "stdout",
     "output_type": "stream",
     "text": [
      "Zaktualizowano plik: cechy_wynik.csv\n",
      "Zaktualizowano plik: cechy_val.csv\n"
     ]
    }
   ],
   "source": [
    "def lung_area(csv_path, nii_folder):\n",
    "    df = pd.read_csv(csv_path)\n",
    "    lung_areas = {}\n",
    "\n",
    "    for filename in os.listdir(nii_folder):\n",
    "        if filename.endswith(\".nii.gz\"):\n",
    "            name = filename.replace(\".nii.gz\", \"\")\n",
    "            path = os.path.join(nii_folder, filename)\n",
    "\n",
    "            try:\n",
    "                data = nib.load(path).get_fdata()\n",
    "                pixels = int(np.sum(data == 1))  # 1 = płuca\n",
    "                lung_areas[name] = pixels\n",
    "            except Exception as e:\n",
    "                print(f\"Błąd: {name} - {e}\")\n",
    "\n",
    "    df['Pole płuc (px)'] = df['nazwa'].map(lung_areas)\n",
    "    df.to_csv(csv_path, index=False)\n",
    "    print(\"Zaktualizowano plik:\", csv_path)\n",
    "\n",
    "lung_area(csv_file_path, folder_path)\n",
    "lung_area(val_csv_file_path,val_folder_path)"
   ]
  },
  {
   "cell_type": "markdown",
   "id": "c1e5e8f8c44b3310",
   "metadata": {
    "id": "c1e5e8f8c44b3310"
   },
   "source": [
    "### Wysokość serca"
   ]
  },
  {
   "cell_type": "code",
   "execution_count": 21,
   "id": "40c47f5f9ce6f6a8",
   "metadata": {
    "ExecuteTime": {
     "end_time": "2025-05-05T19:15:56.371369Z",
     "start_time": "2025-05-05T19:15:56.302413Z"
    },
    "id": "40c47f5f9ce6f6a8",
    "outputId": "e73d8bce-c6f8-4392-a43e-8aed0a23da4d"
   },
   "outputs": [
    {
     "name": "stdout",
     "output_type": "stream",
     "text": [
      "Zaktualizowano plik: cechy_wynik.csv\n",
      "Zaktualizowano plik: cechy_val.csv\n"
     ]
    }
   ],
   "source": [
    "def heart_height(csv_path, nii_folder, new_column_name='Wysokość serca (px)'):\n",
    "    df = pd.read_csv(csv_path)\n",
    "\n",
    "    heart_heights = {}\n",
    "\n",
    "    for filename in os.listdir(nii_folder):\n",
    "        if filename.endswith(\".nii.gz\"):\n",
    "            base_name = filename.replace(\".nii.gz\", \"\")\n",
    "            path = os.path.join(nii_folder, filename)\n",
    "\n",
    "            try:\n",
    "                nii_img = nib.load(path)\n",
    "                data = nii_img.get_fdata()\n",
    "\n",
    "                heart_value = np.max(data)\n",
    "                heart_mask = (data == heart_value)\n",
    "\n",
    "                # Zostawiamy oś Y, sumujemy po X i Z\n",
    "                projection = np.any(heart_mask, axis=(0, 2))\n",
    "                height = int(np.sum(projection))  # ile wierszy zawiera serce\n",
    "\n",
    "                heart_heights[base_name] = height\n",
    "\n",
    "            except Exception as e:\n",
    "                print(f\"Błąd w pliku {filename}: {e}\")\n",
    "\n",
    "    df[new_column_name] = df['nazwa'].map(heart_heights)\n",
    "\n",
    "    df.to_csv(csv_path, index=False)\n",
    "    print(f\"Zaktualizowano plik: {csv_path}\")\n",
    "\n",
    "\n",
    "heart_height(csv_file_path, folder_path)\n",
    "heart_height(val_csv_file_path,val_folder_path)"
   ]
  },
  {
   "cell_type": "markdown",
   "id": "8a79b36cdd5a56b2",
   "metadata": {
    "id": "8a79b36cdd5a56b2"
   },
   "source": [
    "### Szerokość serca"
   ]
  },
  {
   "cell_type": "code",
   "execution_count": 22,
   "id": "4594ff5974ac9995",
   "metadata": {
    "id": "4594ff5974ac9995",
    "outputId": "303e3621-d7f4-466e-cd25-ae5d8179ac7d"
   },
   "outputs": [
    {
     "name": "stdout",
     "output_type": "stream",
     "text": [
      "Zaktualizowano plik: cechy_wynik.csv\n",
      "Zaktualizowano plik: cechy_val.csv\n"
     ]
    }
   ],
   "source": [
    "def heart_width(csv_path, nii_folder, new_column_name='Szerokość serca (px)'):\n",
    "    df = pd.read_csv(csv_path)\n",
    "\n",
    "    heart_widths = {}\n",
    "\n",
    "    for filename in os.listdir(nii_folder):\n",
    "        if filename.endswith(\".nii.gz\"):\n",
    "            base_name = filename.replace(\".nii.gz\", \"\")\n",
    "            path = os.path.join(nii_folder, filename)\n",
    "\n",
    "            try:\n",
    "                nii_img = nib.load(path)\n",
    "                data = nii_img.get_fdata()\n",
    "\n",
    "                heart_value = np.max(data)\n",
    "                heart_mask = (data == heart_value)\n",
    "\n",
    "                projection = np.any(heart_mask, axis=(1, 2))\n",
    "                width = int(np.sum(projection))\n",
    "\n",
    "                heart_widths[base_name] = width\n",
    "\n",
    "            except Exception as e:\n",
    "                print(f\"Błąd w pliku {filename}: {e}\")\n",
    "\n",
    "    df[new_column_name] = df['nazwa'].map(heart_widths)\n",
    "\n",
    "    df.to_csv(csv_path, index=False)\n",
    "    print(f\"Zaktualizowano plik: {csv_path}\")\n",
    "\n",
    "heart_width(csv_file_path, folder_path)\n",
    "heart_width(val_csv_file_path,val_folder_path)"
   ]
  },
  {
   "cell_type": "markdown",
   "id": "fd669c884809ca75",
   "metadata": {
    "id": "fd669c884809ca75"
   },
   "source": [
    "### Wysokość całe"
   ]
  },
  {
   "cell_type": "code",
   "execution_count": 23,
   "id": "20f30eb3fb8fa59a",
   "metadata": {
    "id": "20f30eb3fb8fa59a",
    "outputId": "a744975b-12fb-4507-9042-5eec3f89d1bd"
   },
   "outputs": [
    {
     "name": "stdout",
     "output_type": "stream",
     "text": [
      "Zaktualizowano plik: cechy_wynik.csv\n",
      "Zaktualizowano plik: cechy_val.csv\n"
     ]
    }
   ],
   "source": [
    "def segment_height(csv_path, nii_folder, new_column_name='Wysokość całe (px)'):\n",
    "    df = pd.read_csv(csv_path)\n",
    "\n",
    "    heights = {}\n",
    "\n",
    "    for filename in os.listdir(nii_folder):\n",
    "        if filename.endswith(\".nii.gz\"):\n",
    "            base_name = filename.replace(\".nii.gz\", \"\")\n",
    "            path = os.path.join(nii_folder, filename)\n",
    "\n",
    "            try:\n",
    "                data = nib.load(path).get_fdata()\n",
    "                mask = (data != 0)\n",
    "                projection = np.any(mask, axis=(0, 2))\n",
    "                height = int(np.sum(projection))\n",
    "\n",
    "                heights[base_name] = height\n",
    "\n",
    "            except Exception as e:\n",
    "                print(f\"Błąd w pliku {filename}: {e}\")\n",
    "\n",
    "    df[new_column_name] = df['nazwa'].map(heights)\n",
    "\n",
    "    df.to_csv(csv_path, index=False)\n",
    "    print(f\"Zaktualizowano plik: {csv_path}\")\n",
    "\n",
    "segment_height(csv_file_path, folder_path)\n",
    "segment_height(val_csv_file_path,val_folder_path)"
   ]
  },
  {
   "cell_type": "markdown",
   "id": "d3f00ba2111f7c27",
   "metadata": {
    "id": "d3f00ba2111f7c27"
   },
   "source": [
    "### Szerokość całe"
   ]
  },
  {
   "cell_type": "code",
   "execution_count": 24,
   "id": "328276ba383fefa7",
   "metadata": {
    "id": "328276ba383fefa7",
    "outputId": "cda1b7ad-4615-4ee1-c58e-f69cbe1a2124"
   },
   "outputs": [
    {
     "name": "stdout",
     "output_type": "stream",
     "text": [
      "Zaktualizowano plik: cechy_wynik.csv\n",
      "Zaktualizowano plik: cechy_val.csv\n"
     ]
    }
   ],
   "source": [
    "def segment_width(csv_path, nii_folder, new_column_name='Szerokość całe (px)'):\n",
    "    df = pd.read_csv(csv_path)\n",
    "\n",
    "    widths = {}\n",
    "\n",
    "    for filename in os.listdir(nii_folder):\n",
    "        if filename.endswith(\".nii.gz\"):\n",
    "            base_name = filename.replace(\".nii.gz\", \"\")\n",
    "            path = os.path.join(nii_folder, filename)\n",
    "\n",
    "            try:\n",
    "                data = nib.load(path).get_fdata()\n",
    "\n",
    "                mask = (data != 0)\n",
    "                projection = np.any(mask, axis=(1, 2))\n",
    "                width = int(np.sum(projection))\n",
    "\n",
    "                widths[base_name] = width\n",
    "\n",
    "            except Exception as e:\n",
    "                print(f\"Błąd w pliku {filename}: {e}\")\n",
    "\n",
    "    df[new_column_name] = df['nazwa'].map(widths)\n",
    "\n",
    "    df.to_csv(csv_path, index=False)\n",
    "    print(f\"Zaktualizowano plik: {csv_path}\")\n",
    "\n",
    "segment_width(csv_file_path, folder_path)\n",
    "segment_width(val_csv_file_path,val_folder_path)\n"
   ]
  },
  {
   "cell_type": "markdown",
   "id": "6068a5d238eef111",
   "metadata": {
    "id": "6068a5d238eef111"
   },
   "source": [
    "### CTAR"
   ]
  },
  {
   "cell_type": "code",
   "execution_count": 25,
   "id": "1516fca86e4a47a0",
   "metadata": {
    "id": "1516fca86e4a47a0",
    "outputId": "d5324cf5-6251-4dc8-cbe2-494cc0846557"
   },
   "outputs": [
    {
     "name": "stdout",
     "output_type": "stream",
     "text": [
      "Dodano kolumnę 'CTAR' do pliku cechy_wynik.csv\n",
      "Dodano kolumnę 'CTAR' do pliku cechy_val.csv\n"
     ]
    }
   ],
   "source": [
    "def add_heart_lung_ratio(csv_path, new_column_name='CTAR'):\n",
    "    df = pd.read_csv(csv_path)\n",
    "\n",
    "    df[new_column_name] = df['Pole serca (px)'] / df['Pole płuc (px)']\n",
    "\n",
    "    df.to_csv(csv_path, index=False)\n",
    "    print(f\"Dodano kolumnę '{new_column_name}' do pliku {csv_path}\")\n",
    "\n",
    "add_heart_lung_ratio(csv_file_path)\n",
    "add_heart_lung_ratio(val_csv_file_path)\n"
   ]
  },
  {
   "cell_type": "markdown",
   "id": "a7bca475ecbd6b4f",
   "metadata": {
    "id": "a7bca475ecbd6b4f"
   },
   "source": [
    "### CTR"
   ]
  },
  {
   "cell_type": "code",
   "execution_count": 26,
   "id": "ee3b88cda2f9dd3c",
   "metadata": {
    "id": "ee3b88cda2f9dd3c",
    "outputId": "198cbc85-c23b-4a71-f609-67891be74712"
   },
   "outputs": [
    {
     "name": "stdout",
     "output_type": "stream",
     "text": [
      "Dodano kolumnę 'CTR' do pliku cechy_wynik.csv\n",
      "Dodano kolumnę 'CTR' do pliku cechy_val.csv\n"
     ]
    }
   ],
   "source": [
    "def add_heart_width_segment_width_ratio(csv_path, new_column_name='CTR'):\n",
    "    df = pd.read_csv(csv_path)\n",
    "\n",
    "    df[new_column_name] = df['Szerokość serca (px)'] / df['Szerokość całe (px)']\n",
    "\n",
    "    df.to_csv(csv_path, index=False)\n",
    "    print(f\"Dodano kolumnę '{new_column_name}' do pliku {csv_path}\")\n",
    "\n",
    "add_heart_width_segment_width_ratio(csv_file_path)\n",
    "add_heart_width_segment_width_ratio(val_csv_file_path)"
   ]
  },
  {
   "cell_type": "markdown",
   "id": "31234184120ad8be",
   "metadata": {
    "id": "31234184120ad8be"
   },
   "source": [
    "### Aspect Ratio"
   ]
  },
  {
   "cell_type": "code",
   "execution_count": 27,
   "id": "1a8a84d8238e515c",
   "metadata": {
    "id": "1a8a84d8238e515c",
    "outputId": "7a906eb4-c9e1-4408-810b-0cab0a6f51fc"
   },
   "outputs": [
    {
     "name": "stdout",
     "output_type": "stream",
     "text": [
      "Dodano kolumnę 'Aspect Ratio' do pliku cechy_wynik.csv\n",
      "Dodano kolumnę 'Aspect Ratio' do pliku cechy_val.csv\n"
     ]
    }
   ],
   "source": [
    "def add_aspect_ratio(csv_path, new_column_name='Aspect Ratio'):\n",
    "    df = pd.read_csv(csv_path)\n",
    "\n",
    "    df[new_column_name] = df['Wysokość serca (px)'] / df['Wysokość całe (px)']\n",
    "\n",
    "    df.to_csv(csv_path, index=False)\n",
    "    print(f\"Dodano kolumnę '{new_column_name}' do pliku {csv_path}\")\n",
    "\n",
    "add_aspect_ratio(csv_file_path)\n",
    "add_aspect_ratio(val_csv_file_path)"
   ]
  },
  {
   "cell_type": "markdown",
   "id": "91004b873b39ba00",
   "metadata": {
    "id": "91004b873b39ba00"
   },
   "source": [
    "### Odwrotne Aspect Ratio"
   ]
  },
  {
   "cell_type": "code",
   "execution_count": 28,
   "id": "7121c18be98625c",
   "metadata": {
    "id": "7121c18be98625c",
    "outputId": "dee3feb7-d825-4fed-e963-9fdadbd7298f"
   },
   "outputs": [
    {
     "name": "stdout",
     "output_type": "stream",
     "text": [
      "Dodano kolumnę 'Odwrotne Aspect Ratio' do pliku cechy_wynik.csv\n",
      "Dodano kolumnę 'Odwrotne Aspect Ratio' do pliku cechy_val.csv\n"
     ]
    }
   ],
   "source": [
    "def add_inverted_aspect_ratio(csv_path, new_column_name='Odwrotne Aspect Ratio'):\n",
    "    df = pd.read_csv(csv_path)\n",
    "\n",
    "    df[new_column_name] = df['Wysokość całe (px)'] / df['Wysokość serca (px)']\n",
    "\n",
    "    df.to_csv(csv_path, index=False)\n",
    "    print(f\"Dodano kolumnę '{new_column_name}' do pliku {csv_path}\")\n",
    "\n",
    "add_inverted_aspect_ratio(csv_file_path)\n",
    "add_inverted_aspect_ratio(val_csv_file_path)"
   ]
  },
  {
   "cell_type": "markdown",
   "id": "958358980406f674",
   "metadata": {
    "id": "958358980406f674"
   },
   "source": [
    "### Common Sum"
   ]
  },
  {
   "cell_type": "code",
   "execution_count": 29,
   "id": "d754b441a9114d90",
   "metadata": {
    "id": "d754b441a9114d90",
    "outputId": "dafdc4fb-4d7c-4e99-ec3e-cf287b8b76bb"
   },
   "outputs": [
    {
     "name": "stdout",
     "output_type": "stream",
     "text": [
      "Dodano kolumnę 'Common Sum' do pliku cechy_wynik.csv\n",
      "Dodano kolumnę 'Common Sum' do pliku cechy_val.csv\n"
     ]
    }
   ],
   "source": [
    "def add_common_sum(csv_path, new_column_name='Common Sum'):\n",
    "    df = pd.read_csv(csv_path)\n",
    "\n",
    "    df[new_column_name] = df['Odwrotne Aspect Ratio'] + df['CTR'] + df['CTAR']\n",
    "\n",
    "    df.to_csv(csv_path, index=False)\n",
    "    print(f\"Dodano kolumnę '{new_column_name}' do pliku {csv_path}\")\n",
    "\n",
    "add_common_sum(csv_file_path)\n",
    "add_common_sum(val_csv_file_path)"
   ]
  },
  {
   "cell_type": "markdown",
   "id": "22bfa20f",
   "metadata": {
    "id": "22bfa20f"
   },
   "source": [
    "### CTR4"
   ]
  },
  {
   "cell_type": "code",
   "execution_count": 30,
   "id": "6ea4da6b",
   "metadata": {
    "id": "6ea4da6b",
    "outputId": "37dbd628-7add-4c5a-ee0d-0ce2519bbef6"
   },
   "outputs": [
    {
     "name": "stdout",
     "output_type": "stream",
     "text": [
      "Dodano kolumnę 'CTR4' do pliku cechy_wynik.csv\n",
      "Dodano kolumnę 'CTR4' do pliku cechy_val.csv\n"
     ]
    }
   ],
   "source": [
    "def add_ctr_with_heart_width(csv_path, new_column_name='CTR4'):\n",
    "    df = pd.read_csv(csv_path)\n",
    "\n",
    "    df[new_column_name] = df['CTR'] + df['Szerokość serca (px)']\n",
    "\n",
    "    df.to_csv(csv_path,index=False)\n",
    "    print(f\"Dodano kolumnę '{new_column_name}' do pliku {csv_path}\")\n",
    "\n",
    "add_ctr_with_heart_width(csv_file_path)\n",
    "add_ctr_with_heart_width(val_csv_file_path)"
   ]
  },
  {
   "cell_type": "markdown",
   "id": "b8dc07a6",
   "metadata": {
    "id": "b8dc07a6"
   },
   "source": [
    "### CTR1"
   ]
  },
  {
   "cell_type": "code",
   "execution_count": 31,
   "id": "916b5436",
   "metadata": {
    "id": "916b5436",
    "outputId": "16f3e194-a275-4ef4-a028-5f761a185db6"
   },
   "outputs": [
    {
     "name": "stdout",
     "output_type": "stream",
     "text": [
      "Dodano kolumnę 'CTR + Heart Area' do pliku cechy_wynik.csv\n",
      "Dodano kolumnę 'CTR + Heart Area' do pliku cechy_val.csv\n"
     ]
    }
   ],
   "source": [
    "def add_ctr_with_heart_area(csv_path, new_column_name='CTR + Heart Area'):\n",
    "    df = pd.read_csv(csv_path)\n",
    "\n",
    "    df[new_column_name] = df['CTR'] + df['Pole płuc (px)']\n",
    "\n",
    "    df.to_csv(csv_path,index=False)\n",
    "    print(f\"Dodano kolumnę '{new_column_name}' do pliku {csv_path}\")\n",
    "\n",
    "add_ctr_with_heart_area(csv_file_path)\n",
    "add_ctr_with_heart_area(val_csv_file_path)"
   ]
  },
  {
   "cell_type": "markdown",
   "id": "ebb02c0c",
   "metadata": {
    "id": "ebb02c0c"
   },
   "source": [
    "### Pole Okręgu Wpisanego i Promień Okręgu"
   ]
  },
  {
   "cell_type": "code",
   "execution_count": 32,
   "id": "901a30c5",
   "metadata": {
    "id": "901a30c5",
    "outputId": "89641834-a087-4573-fa4d-4337733ba378"
   },
   "outputs": [
    {
     "name": "stdout",
     "output_type": "stream",
     "text": [
      "Dodano kolumnę 'pole koła wpisanego' do pliku cechy_wynik.csv\n",
      "Dodano kolumnę 'pole koła wpisanego' do pliku cechy_val.csv\n"
     ]
    }
   ],
   "source": [
    "from scipy.ndimage import distance_transform_edt\n",
    "\n",
    "def add_heart_area(csv_path,nii_folder,new_column_name='pole koła wpisanego'):\n",
    "    df = pd.read_csv(csv_path)\n",
    "\n",
    "    heart_areas = {}\n",
    "    heart_radiuses = {}\n",
    "\n",
    "    for filename in os.listdir(nii_folder):\n",
    "        if filename.endswith(\".nii.gz\"):\n",
    "            base_name = filename.replace(\".nii.gz\", \"\")\n",
    "            path = os.path.join(nii_folder, filename)\n",
    "\n",
    "            try:\n",
    "                nii_img = nib.load(path)\n",
    "                data = nii_img.get_fdata()\n",
    "\n",
    "                heart_value = np.max(data)\n",
    "                heart_mask = (data == heart_value)\n",
    "\n",
    "                heart_area,heart_radius = analyze_heart_center(heart_mask)\n",
    "\n",
    "                heart_areas[base_name] = heart_area\n",
    "                heart_radiuses[base_name] = heart_radius\n",
    "\n",
    "            except Exception as e:\n",
    "                print(f\"Błąd w pliku {filename}: {e}\")\n",
    "\n",
    "    df[new_column_name] = df['nazwa'].map(heart_areas)\n",
    "    df['promień koła wpisanego'] = df['nazwa'].map(heart_radiuses)\n",
    "\n",
    "    df.to_csv(csv_path,index=False)\n",
    "    print(f\"Dodano kolumnę '{new_column_name}' do pliku {csv_path}\")\n",
    "\n",
    "def analyze_heart_center(mask):\n",
    "    #heart_mask = (mask == 255).astype(np.uint8)\n",
    "    lung_mask = (mask == 128).astype(np.uint8)\n",
    "\n",
    "    dist_transform = distance_transform_edt(mask)\n",
    "    max_dist = np.max(dist_transform)\n",
    "\n",
    "    # Obliczenia dla okręgu wpisanego\n",
    "    inscribed_radius = max_dist\n",
    "    inscribed_area = np.pi * (inscribed_radius ** 2)\n",
    "\n",
    "    return inscribed_area, inscribed_radius\n",
    "\n",
    "add_heart_area(csv_file_path,folder_path)\n",
    "add_heart_area(val_csv_file_path, val_folder_path)"
   ]
  },
  {
   "cell_type": "markdown",
   "id": "rO6oYvcB87_N",
   "metadata": {
    "id": "rO6oYvcB87_N"
   },
   "source": [
    "### Zaokragelenie koniuszka"
   ]
  },
  {
   "cell_type": "code",
   "execution_count": 33,
   "id": "d0o92R1X9B5P",
   "metadata": {
    "colab": {
     "base_uri": "https://localhost:8080/",
     "height": 356
    },
    "executionInfo": {
     "elapsed": 114,
     "status": "error",
     "timestamp": 1746557810001,
     "user": {
      "displayName": "Kubarozruba",
      "userId": "14159684307941865599"
     },
     "user_tz": -120
    },
    "id": "d0o92R1X9B5P",
    "outputId": "11dc2451-f4f5-4f50-87cf-bf29a1a29dfe"
   },
   "outputs": [
    {
     "name": "stdout",
     "output_type": "stream",
     "text": [
      "Zaktualizowano plik CSV: cechy_val.csv\n",
      "Zaktualizowano plik CSV: cechy_wynik.csv\n"
     ]
    }
   ],
   "source": [
    "import cv2\n",
    "import numpy as np\n",
    "from scipy.optimize import leastsq\n",
    "import os\n",
    "import pandas as pd\n",
    "import nibabel as nib\n",
    "\n",
    "# Funkcja błędu do dopasowania okręgu metodą najmniejszych kwadratów\n",
    "def fit_circle(params, x, y):\n",
    "    xc, yc, r = params\n",
    "    return np.sqrt((x - xc)**2 + (y - yc)**2) - r\n",
    "\n",
    "# Główna funkcja: dodaje kolumnę z promieniem koniuszka na podstawie danych z obrazów .nii.gz\n",
    "def add_radius_column(csv_path, nii_folder, new_column_name='Promień koniuszka (px)', region_radius=15, slice_index=None):\n",
    "    # Wczytaj plik CSV jako DataFrame\n",
    "    df = pd.read_csv(csv_path)\n",
    "    \n",
    "    # Słownik na promienie, indeksowane nazwami plików (bez rozszerzenia)\n",
    "    radii = {}\n",
    "\n",
    "    # Iteracja po wszystkich plikach w folderze\n",
    "    for filename in os.listdir(nii_folder):\n",
    "        if not filename.lower().endswith('.nii.gz'):\n",
    "            continue  # Pomijamy pliki inne niż .nii.gz\n",
    "\n",
    "        nii_path = os.path.join(nii_folder, filename)\n",
    "        try:\n",
    "            # Wczytaj dane z pliku .nii.gz\n",
    "            nii_img = nib.load(nii_path)\n",
    "            img_data = nii_img.get_fdata()\n",
    "        except Exception as e:\n",
    "            print(f\"Błąd ładowania {filename}: {e}\")\n",
    "            continue\n",
    "\n",
    "        # Wybór przekroju w osi Z (domyślnie środkowy)\n",
    "        z = slice_index if slice_index is not None else img_data.shape[2] // 2\n",
    "        slice_2d = img_data[:, :, z]\n",
    "\n",
    "        # Normalizacja wartości do zakresu 0–255 i konwersja do uint8 (potrzebna dla OpenCV)\n",
    "        slice_norm = (slice_2d - np.min(slice_2d)) / (np.max(slice_2d) - np.min(slice_2d))\n",
    "        slice_uint8 = (slice_norm * 255).astype(np.uint8)\n",
    "\n",
    "        # Binarizacja obrazu — tylko wartości powyżej 200 pozostają jako 255 (biały)\n",
    "        _, binary = cv2.threshold(slice_uint8, 200, 255, cv2.THRESH_BINARY)\n",
    "\n",
    "        # Znajdź kontury w obrazie binarnym\n",
    "        contours, _ = cv2.findContours(binary, cv2.RETR_EXTERNAL, cv2.CHAIN_APPROX_NONE)\n",
    "        if not contours:\n",
    "            continue  # Jeśli brak konturów, przechodzimy do następnego pliku\n",
    "\n",
    "        # Wybierz największy kontur (np. najbardziej zewnętrzny)\n",
    "        cnt = max(contours, key=cv2.contourArea)\n",
    "        cnt_points = cnt[:, 0, :]  # Usunięcie zbędnego wymiaru\n",
    "\n",
    "        # Znajdź punkt w dolnym prawym rogu (suma współrzędnych x+y największa)\n",
    "        bottom_right = max(cnt_points, key=lambda p: (p[0] + p[1]))\n",
    "\n",
    "        # Oblicz dystans każdego punktu konturu od punktu bottom_right\n",
    "        distances = np.linalg.norm(cnt_points - bottom_right, axis=1)\n",
    "\n",
    "        # Wybierz punkty w zadanym promieniu (region koniuszka)\n",
    "        region_mask = distances < region_radius\n",
    "        region_points = cnt_points[region_mask]\n",
    "\n",
    "        if len(region_points) < 3:\n",
    "            continue  # Potrzebujemy co najmniej 3 punktów do dopasowania okręgu\n",
    "\n",
    "        # Przygotuj współrzędne punktów do dopasowania\n",
    "        x = region_points[:, 0]\n",
    "        y = region_points[:, 1]\n",
    "        x_m, y_m = np.mean(x), np.mean(y)  # Środek masy jako wstępne przybliżenie środka okręgu\n",
    "        initial_guess = (x_m, y_m, 10)     # Startowe wartości: (x, y, promień)\n",
    "\n",
    "        try:\n",
    "            # Dopasuj okrąg metodą najmniejszych kwadratów\n",
    "            result, _ = leastsq(fit_circle, initial_guess, args=(x, y))\n",
    "            _, _, radius = result  # Interesuje nas tylko promień\n",
    "\n",
    "            # Usuń rozszerzenie pliku .nii.gz → zapisujemy tylko nazwę\n",
    "            base_name = os.path.splitext(os.path.splitext(filename)[0])[0]\n",
    "            radii[base_name] = round(radius, 2)  # Zaokrąglamy promień i zapisujemy\n",
    "        except Exception as e:\n",
    "            print(f\"Błąd w pliku {filename}: {e}\")\n",
    "\n",
    "    # Dopasowanie nazw: usuń rozszerzenia z kolumny 'nazwa' w CSV, żeby dopasować do radii\n",
    "    df['nazwa_bez_rozszerzenia'] = df['nazwa'].apply(lambda x: os.path.splitext(os.path.splitext(x)[0])[0])\n",
    "    df[new_column_name] = df['nazwa_bez_rozszerzenia'].map(radii)  # Dodaj nową kolumnę z promieniami\n",
    "    df.drop(columns='nazwa_bez_rozszerzenia', inplace=True)  # Usuń tymczasową kolumnę\n",
    "\n",
    "    # Zapisz zaktualizowany CSV\n",
    "    df.to_csv(csv_path, index=False)\n",
    "    print(f\"Zaktualizowano plik CSV: {csv_path}\")\n",
    "\n",
    "add_radius_column(val_csv_file_path, val_folder_path)\n",
    "add_radius_column(csv_file_path, folder_path)"
   ]
  },
  {
   "cell_type": "markdown",
   "id": "f04d3156",
   "metadata": {
    "id": "f04d3156"
   },
   "source": [
    "### Występowanie Kardiomegalii"
   ]
  },
  {
   "cell_type": "code",
   "execution_count": 34,
   "id": "b6507d20",
   "metadata": {
    "id": "b6507d20",
    "outputId": "7b6de7de-f5d6-4e56-f924-9342abb683fb"
   },
   "outputs": [
    {
     "name": "stdout",
     "output_type": "stream",
     "text": [
      "Dodano kolumnę 'Kardiomegalia' do pliku cechy_wynik.csv\n",
      "Dodano kolumnę 'Kardiomegalia' do pliku cechy_val.csv\n"
     ]
    }
   ],
   "source": [
    "def add_cardiomegally(csv_path,folder_path,new_column_name=\"Kardiomegalia\"):\n",
    "    df = pd.read_csv(csv_path)\n",
    "    labels = pd.read_csv(f'{folder_path}/labelki.csv')\n",
    "\n",
    "    label_dict = dict(zip(labels['ID'], labels['Ground truth nieindeksowane']))\n",
    "\n",
    "    df[new_column_name] = df['nazwa'].str.extract(r'^(\\d+)').astype(int)[0].map(label_dict)\n",
    "\n",
    "    df.to_csv(csv_path,index=False)\n",
    "    print(f\"Dodano kolumnę '{new_column_name}' do pliku {csv_path}\")\n",
    "\n",
    "add_cardiomegally(csv_file_path,folder_path)\n",
    "add_cardiomegally(val_csv_file_path,val_folder_path)"
   ]
  },
  {
   "cell_type": "markdown",
   "id": "6e541182",
   "metadata": {
    "id": "6e541182"
   },
   "source": [
    "# Trening Modelu"
   ]
  },
  {
   "cell_type": "markdown",
   "id": "b829349d",
   "metadata": {
    "id": "b829349d"
   },
   "source": [
    "### Importy"
   ]
  },
  {
   "cell_type": "code",
   "execution_count": 35,
   "id": "ad01a1ec",
   "metadata": {
    "id": "ad01a1ec"
   },
   "outputs": [],
   "source": [
    "import pandas as pd\n",
    "import matplotlib.pyplot as plt\n",
    "\n",
    "from sklearn.model_selection import RepeatedStratifiedKFold\n",
    "from sklearn.metrics import accuracy_score, confusion_matrix, classification_report\n",
    "from sklearn.preprocessing import StandardScaler\n",
    "\n",
    "from sklearn.ensemble import RandomForestClassifier, VotingClassifier\n",
    "from sklearn.neighbors import KNeighborsClassifier\n",
    "from sklearn.tree import DecisionTreeClassifier\n",
    "from sklearn.svm import SVC\n",
    "from sklearn.linear_model import LogisticRegression\n",
    "from sklearn.gaussian_process import GaussianProcessClassifier\n",
    "from sklearn.gaussian_process.kernels import RBF\n",
    "from sklearn.naive_bayes import GaussianNB"
   ]
  },
  {
   "cell_type": "markdown",
   "id": "76f9c448",
   "metadata": {
    "id": "76f9c448"
   },
   "source": [
    "### Przygotowanie Danych"
   ]
  },
  {
   "cell_type": "code",
   "execution_count": null,
   "id": "3b551892",
   "metadata": {
    "id": "3b551892"
   },
   "outputs": [],
   "source": [
    "df = pd.read_csv(csv_file_path)\n",
    "dv = pd.read_csv(val_csv_file_path)\n",
    "df.rename(columns={\n",
    "    'Obwód Serca (px)': 'Obwod serca',\n",
    "    'CTAR - Cardiothoracic Area Ratio (stosunek pól serca serca do płuc)': 'CTAR',\n",
    "    'CTR - Cardiothoracic Ratio (szerokosc serca/szerokosc pluc, >0,5 = kardiomegalia)': 'CTR',\n",
    "    'odwrotne Aspect Ratio of the Heart (szerokosc/wysokosc serca)': 'ARH',\n",
    "    'CTR + Heart Area': 'CTR1',\n",
    "    'CTR + odwrotne Aspect Ratio ': 'CTR2',\n",
    "    'CTR + obwód serca': 'CTR3',\n",
    "    'CTR + szerokość serca': 'CTR4',\n",
    "    'pole prostokąta zawierającego serce': 'Obwod prostokata',\n",
    "    'stosunek pola serca do pola prostokata opisanego': 'Stsunuek pol okregu i prostokata',\n",
    "    'stosunek pola serca na prawo i lewo od okregu wpisanego': 'Stsunuek pol okregu',\n",
    "    'CTR + wysokość serca': 'CTR5',\n",
    "    'promień koła wpisanego': 'promien kola',\n",
    "    'Promień koniuszka (px)': 'koniuszek',\n",
    "    'pole koła wpisanego': 'pole kola'\n",
    "}, inplace=True)\n",
    "\n",
    "dv.rename(columns={\n",
    "    'Obwód Serca (px)': 'Obwod serca',\n",
    "    'CTAR - Cardiothoracic Area Ratio (stosunek pól serca serca do płuc)': 'CTAR',\n",
    "    'CTR - Cardiothoracic Ratio (szerokosc serca/szerokosc pluc, >0,5 = kardiomegalia)': 'CTR',\n",
    "    'odwrotne Aspect Ratio of the Heart (szerokosc/wysokosc serca)': 'ARH',\n",
    "    'CTR + Heart Area': 'CTR1',\n",
    "    'CTR + odwrotne Aspect Ratio ': 'CTR2',\n",
    "    'CTR + obwód serca': 'CTR3',\n",
    "    'CTR + szerokość serca': 'CTR4',\n",
    "    'pole prostokąta zawierającego serce': 'Obwod prostokata',\n",
    "    'stosunek pola serca do pola prostokata opisanego': 'Stsunuek pol okregu i prostokata',\n",
    "    'stosunek pola serca na prawo i lewo od okregu wpisanego': 'Stsunuek pol okregu',\n",
    "    'CTR + wysokość serca': 'CTR5',\n",
    "    'promień koła wpisanego': 'promien kola',\n",
    "    'Promień koniuszka (px)': 'koniuszek',\n",
    "    'pole koła wpisanego': 'pole kola'\n",
    "}, inplace=True)\n",
    "\n",
    "X_train = df[['CTR4', 'Common Sum', 'koniuszek', 'promien kola']]\n",
    "y_train = df['Kardiomegalia']\n",
    "\n",
    "# Przygotowanie danych walidacyjnych\n",
    "X_val = dv[['CTR4', 'Common Sum', 'koniuszek', 'promien kola']]\n",
    "y_val = dv['Kardiomegalia']\n",
    "\n",
    "# Skalowanie\n",
    "scaler = StandardScaler()\n",
    "X_train_scaled = scaler.fit_transform(X_train)\n",
    "X_val_scaled = scaler.transform(X_val)"
   ]
  },
  {
   "cell_type": "markdown",
   "id": "e2921ef6",
   "metadata": {
    "id": "e2921ef6"
   },
   "source": [
    "### Model 1"
   ]
  },
  {
   "cell_type": "code",
   "execution_count": 37,
   "id": "52dac9d9",
   "metadata": {},
   "outputs": [
    {
     "name": "stdout",
     "output_type": "stream",
     "text": [
      "   nazwa  Predicted\n",
      "0   16CE          1\n",
      "1  19ChM          1\n",
      "2   23RM          1\n",
      "3   33SP          1\n",
      "4   34ZA          0\n",
      "5   36SB          1\n",
      "6   44MM          1\n",
      "7    4MP          1\n",
      "8   51KG          1\n",
      "9    6PJ          1\n",
      "              precision    recall  f1-score   support\n",
      "\n",
      "           0       1.00      0.33      0.50         3\n",
      "           1       0.78      1.00      0.88         7\n",
      "\n",
      "    accuracy                           0.80        10\n",
      "   macro avg       0.89      0.67      0.69        10\n",
      "weighted avg       0.84      0.80      0.76        10\n",
      "\n"
     ]
    }
   ],
   "source": [
    "\n",
    "# ensemble training\n",
    "clf_knn = KNeighborsClassifier(n_neighbors=3, weights='distance', metric='manhattan')\n",
    "clf_tree = DecisionTreeClassifier(max_depth=3, criterion='gini', min_samples_split=2, class_weight='balanced')\n",
    "clf_svc = SVC(kernel='rbf', C=5, gamma='scale', probability=True, class_weight='balanced')\n",
    "clf_log = LogisticRegression(C=10, penalty='l1', solver='liblinear', max_iter=1000, class_weight='balanced')\n",
    "clf_rf = RandomForestClassifier(criterion='entropy', max_depth=4, min_samples_split=6, n_estimators=100, class_weight='balanced')\n",
    "clf_gpc = GaussianProcessClassifier(max_iter_predict=100, kernel= 1**2 * RBF(length_scale=0.1))\n",
    "clf_gnb = GaussianNB(var_smoothing= 1e-09)\n",
    "\n",
    "ensemble = VotingClassifier(\n",
    "    estimators=[\n",
    "    ('knn', clf_knn),\n",
    "    ('svc', clf_svc),\n",
    "    #('rf', clf_rf),\n",
    "    #('tree', clf_tree), #pogarsza\n",
    "    #('gpc', clf_gpc), #pogarsza\n",
    "    #('gnb', clf_gnb), #pogarsza\n",
    "    #('log', clf_log) #pogarsza\n",
    "], voting='soft')\n",
    "\n",
    "# Trening\n",
    "ensemble.fit(X_train_scaled, y_train)\n",
    "\n",
    "# Predykcja\n",
    "y_pred = ensemble.predict(X_val_scaled)\n",
    "\n",
    "# Wyświetlenie predykcji\n",
    "dv['Predicted'] = y_pred\n",
    "print(dv[['nazwa', 'Predicted']])\n",
    "\n",
    "# (Opcjonalnie) ewaluacja, jeśli prawdziwe etykiety są obecne\n",
    "if 'Kardiomegalia' in dv.columns and dv['Kardiomegalia'].notna().all():\n",
    "    print(classification_report(dv['Kardiomegalia'], y_pred))"
   ]
  },
  {
   "cell_type": "code",
   "execution_count": 47,
   "id": "bc6d7cce",
   "metadata": {},
   "outputs": [],
   "source": [
    "df = pd.read_csv(csv_file_path)\n",
    "dv = pd.read_csv(val_csv_file_path)\n",
    "df.rename(columns={\n",
    "    'Obwód Serca (px)': 'Obwod serca',\n",
    "    'CTAR - Cardiothoracic Area Ratio (stosunek pól serca serca do płuc)': 'CTAR',\n",
    "    'CTR - Cardiothoracic Ratio (szerokosc serca/szerokosc pluc, >0,5 = kardiomegalia)': 'CTR',\n",
    "    'odwrotne Aspect Ratio of the Heart (szerokosc/wysokosc serca)': 'ARH',\n",
    "    'CTR + Heart Area': 'CTR1',\n",
    "    'CTR + odwrotne Aspect Ratio ': 'CTR2',\n",
    "    'CTR + obwód serca': 'CTR3',\n",
    "    'CTR + szerokość serca': 'CTR4',\n",
    "    'pole prostokąta zawierającego serce': 'Obwod prostokata',\n",
    "    'stosunek pola serca do pola prostokata opisanego': 'Stsunuek pol okregu i prostokata',\n",
    "    'stosunek pola serca na prawo i lewo od okregu wpisanego': 'Stsunuek pol okregu',\n",
    "    'CTR + wysokość serca': 'CTR5',\n",
    "    'promień koła wpisanego': 'promien kola',\n",
    "    'Promień koniuszka (px)': 'koniuszek',\n",
    "    'pole koła wpisanego': 'pole kola'\n",
    "}, inplace=True)\n",
    "\n",
    "dv.rename(columns={\n",
    "    'Obwód Serca (px)': 'Obwod serca',\n",
    "    'CTAR - Cardiothoracic Area Ratio (stosunek pól serca serca do płuc)': 'CTAR',\n",
    "    'CTR - Cardiothoracic Ratio (szerokosc serca/szerokosc pluc, >0,5 = kardiomegalia)': 'CTR',\n",
    "    'odwrotne Aspect Ratio of the Heart (szerokosc/wysokosc serca)': 'ARH',\n",
    "    'CTR + Heart Area': 'CTR1',\n",
    "    'CTR + odwrotne Aspect Ratio ': 'CTR2',\n",
    "    'CTR + obwód serca': 'CTR3',\n",
    "    'CTR + szerokość serca': 'CTR4',\n",
    "    'pole prostokąta zawierającego serce': 'Obwod prostokata',\n",
    "    'stosunek pola serca do pola prostokata opisanego': 'Stsunuek pol okregu i prostokata',\n",
    "    'stosunek pola serca na prawo i lewo od okregu wpisanego': 'Stsunuek pol okregu',\n",
    "    'CTR + wysokość serca': 'CTR5',\n",
    "    'promień koła wpisanego': 'promien kola',\n",
    "    'Promień koniuszka (px)': 'koniuszek',\n",
    "    'pole koła wpisanego': 'pole kola'\n",
    "}, inplace=True)\n",
    "\n",
    "X_train = df[['CTR4', 'CTR1', 'koniuszek', 'pole kola']]\n",
    "y_train = df['Kardiomegalia']\n",
    "\n",
    "# Przygotowanie danych walidacyjnych\n",
    "X_val = dv[['CTR4', 'CTR1', 'koniuszek', 'pole kola']]\n",
    "y_val = dv['Kardiomegalia']\n",
    "\n",
    "# Skalowanie\n",
    "scaler = StandardScaler()\n",
    "X_train_scaled = scaler.fit_transform(X_train)\n",
    "X_val_scaled = scaler.transform(X_val)"
   ]
  },
  {
   "cell_type": "code",
   "execution_count": 39,
   "id": "5c8719d5",
   "metadata": {},
   "outputs": [],
   "source": [
    "### Model 2"
   ]
  },
  {
   "cell_type": "code",
   "execution_count": 48,
   "id": "3d9fb02b",
   "metadata": {},
   "outputs": [
    {
     "name": "stdout",
     "output_type": "stream",
     "text": [
      "   nazwa  Predicted\n",
      "0   16CE          1\n",
      "1  19ChM          1\n",
      "2   23RM          1\n",
      "3   33SP          1\n",
      "4   34ZA          0\n",
      "5   36SB          1\n",
      "6   44MM          1\n",
      "7    4MP          1\n",
      "8   51KG          1\n",
      "9    6PJ          1\n",
      "              precision    recall  f1-score   support\n",
      "\n",
      "           0       1.00      0.33      0.50         3\n",
      "           1       0.78      1.00      0.88         7\n",
      "\n",
      "    accuracy                           0.80        10\n",
      "   macro avg       0.89      0.67      0.69        10\n",
      "weighted avg       0.84      0.80      0.76        10\n",
      "\n"
     ]
    }
   ],
   "source": [
    "\n",
    "# ensemble training\n",
    "clf_knn = KNeighborsClassifier(n_neighbors=3, weights='distance', metric='manhattan')\n",
    "clf_tree = DecisionTreeClassifier(max_depth=3, criterion='gini', min_samples_split=2, class_weight='balanced')\n",
    "clf_svc = SVC(kernel='rbf', C=5, gamma='scale', probability=True, class_weight='balanced')\n",
    "clf_log = LogisticRegression(C=10, penalty='l1', solver='liblinear', max_iter=1000, class_weight='balanced')\n",
    "clf_rf = RandomForestClassifier(criterion='entropy', max_depth=4, min_samples_split=5, n_estimators=20, class_weight='balanced')\n",
    "clf_gpc = GaussianProcessClassifier(max_iter_predict=100, kernel= 1**2 * RBF(length_scale=0.1))\n",
    "clf_gnb = GaussianNB(var_smoothing= 1e-09)\n",
    "\n",
    "ensemble = VotingClassifier(\n",
    "    estimators=[\n",
    "    ('knn', clf_knn),\n",
    "    ('svc', clf_svc),\n",
    "    ('rf', clf_rf),\n",
    "    #('tree', clf_tree), #pogarsza\n",
    "    #('gpc', clf_gpc), #pogarsza\n",
    "    #('gnb', clf_gnb), #pogarsza\n",
    "    #('log', clf_log) #pogarsza\n",
    "], voting='soft')\n",
    "\n",
    "# Trening\n",
    "ensemble.fit(X_train_scaled, y_train)\n",
    "\n",
    "# Predykcja\n",
    "y_pred = ensemble.predict(X_val_scaled)\n",
    "\n",
    "# Wyświetlenie predykcji\n",
    "dv['Predicted'] = y_pred\n",
    "print(dv[['nazwa', 'Predicted']])\n",
    "\n",
    "# (Opcjonalnie) ewaluacja, jeśli prawdziwe etykiety są obecne\n",
    "if 'Kardiomegalia' in dv.columns and dv['Kardiomegalia'].notna().all():\n",
    "    print(classification_report(dv['Kardiomegalia'], y_pred))"
   ]
  },
  {
   "cell_type": "markdown",
   "id": "b94f9c07",
   "metadata": {
    "id": "b94f9c07"
   },
   "source": [
    "### Ocena Modelu"
   ]
  },
  {
   "cell_type": "code",
   "execution_count": 41,
   "id": "a2435dcd",
   "metadata": {
    "id": "a2435dcd",
    "outputId": "ed750948-2c95-447e-9d3a-b6b47dc9d470"
   },
   "outputs": [
    {
     "data": {
      "image/png": "[encoded data removed]",
      "text/plain": [
       "<Figure size 640x480 with 2 Axes>"
      ]
     },
     "metadata": {},
     "output_type": "display_data"
    },
    {
     "name": "stdout",
     "output_type": "stream",
     "text": [
      "\n",
      "False Positives (FP): 3\n",
      "False Negatives (FN): 0\n",
      "Stratified 5-Fold CV Accuracy: 0.7000\n",
      "Confusion Matrix:\n",
      "[[0 3]\n",
      " [0 7]]\n",
      "\n",
      "Classification Report:\n",
      "              precision    recall  f1-score   support\n",
      "\n",
      "           0       0.00      0.00      0.00         3\n",
      "           1       0.70      1.00      0.82         7\n",
      "\n",
      "    accuracy                           0.70        10\n",
      "   macro avg       0.35      0.50      0.41        10\n",
      "weighted avg       0.49      0.70      0.58        10\n",
      "\n"
     ]
    },
    {
     "name": "stderr",
     "output_type": "stream",
     "text": [
      "c:\\Users\\domin\\AppData\\Local\\Programs\\Python\\Python313\\Lib\\site-packages\\sklearn\\metrics\\_classification.py:1565: UndefinedMetricWarning: Precision is ill-defined and being set to 0.0 in labels with no predicted samples. Use `zero_division` parameter to control this behavior.\n",
      "  _warn_prf(average, modifier, f\"{metric.capitalize()} is\", len(result))\n",
      "c:\\Users\\domin\\AppData\\Local\\Programs\\Python\\Python313\\Lib\\site-packages\\sklearn\\metrics\\_classification.py:1565: UndefinedMetricWarning: Precision is ill-defined and being set to 0.0 in labels with no predicted samples. Use `zero_division` parameter to control this behavior.\n",
      "  _warn_prf(average, modifier, f\"{metric.capitalize()} is\", len(result))\n",
      "c:\\Users\\domin\\AppData\\Local\\Programs\\Python\\Python313\\Lib\\site-packages\\sklearn\\metrics\\_classification.py:1565: UndefinedMetricWarning: Precision is ill-defined and being set to 0.0 in labels with no predicted samples. Use `zero_division` parameter to control this behavior.\n",
      "  _warn_prf(average, modifier, f\"{metric.capitalize()} is\", len(result))\n"
     ]
    }
   ],
   "source": [
    "import seaborn as sns\n",
    "\n",
    "# Metryki\n",
    "acc = accuracy_score(y_val, y_pred)\n",
    "cm = confusion_matrix(y_val, y_pred)\n",
    "tn, fp, fn, tp = cm.ravel()\n",
    "\n",
    "labels = ['ill','healthy']\n",
    "plt.figure()\n",
    "sns.heatmap(cm,annot=True,cmap='Blues',xticklabels=labels,yticklabels=labels)\n",
    "\n",
    "plt.xlabel(\"Predicted\")\n",
    "plt.ylabel(\"Real\")\n",
    "plt.tight_layout()\n",
    "plt.show()\n",
    "\n",
    "print(f\"\\nFalse Positives (FP): {fp}\")\n",
    "print(f\"False Negatives (FN): {fn}\")\n",
    "print(f\"Stratified 5-Fold CV Accuracy: {acc:.4f}\")\n",
    "print(\"Confusion Matrix:\")\n",
    "print(cm)\n",
    "print(\"\\nClassification Report:\")\n",
    "print(classification_report(y_val, y_pred))"
   ]
  },
  {
   "cell_type": "code",
   "execution_count": null,
   "id": "ee90af27",
   "metadata": {},
   "outputs": [],
   "source": []
  }
 ],
 "metadata": {
  "colab": {
   "provenance": [],
   "toc_visible": true
  },
  "kernelspec": {
   "display_name": "Python 3",
   "language": "python",
   "name": "python3"
  },
  "language_info": {
   "codemirror_mode": {
    "name": "ipython",
    "version": 3
   },
   "file_extension": ".py",
   "mimetype": "text/x-python",
   "name": "python",
   "nbconvert_exporter": "python",
   "pygments_lexer": "ipython3",
   "version": "3.13.1"
  }
 },
 "nbformat": 4,
 "nbformat_minor": 5
}
